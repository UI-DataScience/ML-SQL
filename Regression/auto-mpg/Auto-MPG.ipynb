{
 "cells": [
  {
   "cell_type": "markdown",
   "metadata": {},
   "source": [
    "# Auto-MPG dataset\n",
    "\n",
    "## Authors\n",
    "\n",
    "Written by: Neeraj Asthana (under Professor Robert Brunner)\n",
    "\n",
    "University of Illinois at Urbana-Champaign\n",
    "\n",
    "Summer 2016\n",
    "\n",
    "## Acknowledgements\n",
    "\n",
    "Dataset found on UCI Machine Learning repository at: http://archive.ics.uci.edu/ml/datasets/Auto+MPG\n",
    "\n",
    "## Dataset Information\n",
    "\n",
    "This data set tries to predict the mpg (miles per gallon) of a car (continuous) using many different predcitors.\n",
    "\n",
    "A description of the dataset can be found at: http://archive.ics.uci.edu/ml/machine-learning-databases/auto-mpg/auto-mpg.names\n",
    "\n",
    "Predictors:\n",
    "\n",
    "- cylinders (multi-valued discrete)\n",
    "- displacement (continuous)\n",
    "- horsepower (continuous)\n",
    "- weight (continuous)\n",
    "- acceleration (continuous)\n",
    "- model year (multi-valued discrete)\n",
    "- origin (multi-valued discrete)\n",
    "- car name (string - unique)"
   ]
  },
  {
   "cell_type": "code",
   "execution_count": 37,
   "metadata": {
    "collapsed": false
   },
   "outputs": [],
   "source": [
    "#Libraries and Imports\n",
    "import pandas as pd\n",
    "import numpy as np\n",
    "import matplotlib.pyplot as plt\n",
    "from sklearn import linear_model\n",
    "from sklearn.cross_validation import train_test_split"
   ]
  },
  {
   "cell_type": "code",
   "execution_count": 3,
   "metadata": {
    "collapsed": false
   },
   "outputs": [
    {
     "data": {
      "text/html": [
       "<div>\n",
       "<table border=\"1\" class=\"dataframe\">\n",
       "  <thead>\n",
       "    <tr style=\"text-align: right;\">\n",
       "      <th></th>\n",
       "      <th>mpg</th>\n",
       "      <th>cylinders</th>\n",
       "      <th>displacement</th>\n",
       "      <th>horsepower</th>\n",
       "      <th>weight</th>\n",
       "      <th>acceleration</th>\n",
       "      <th>model_year</th>\n",
       "      <th>origin</th>\n",
       "      <th>car_name</th>\n",
       "    </tr>\n",
       "  </thead>\n",
       "  <tbody>\n",
       "    <tr>\n",
       "      <th>0</th>\n",
       "      <td>18.0</td>\n",
       "      <td>8</td>\n",
       "      <td>307.0</td>\n",
       "      <td>130.0</td>\n",
       "      <td>3504.0</td>\n",
       "      <td>12.0</td>\n",
       "      <td>70</td>\n",
       "      <td>1</td>\n",
       "      <td>chevrolet chevelle malibu</td>\n",
       "    </tr>\n",
       "    <tr>\n",
       "      <th>1</th>\n",
       "      <td>15.0</td>\n",
       "      <td>8</td>\n",
       "      <td>350.0</td>\n",
       "      <td>165.0</td>\n",
       "      <td>3693.0</td>\n",
       "      <td>11.5</td>\n",
       "      <td>70</td>\n",
       "      <td>1</td>\n",
       "      <td>buick skylark 320</td>\n",
       "    </tr>\n",
       "    <tr>\n",
       "      <th>2</th>\n",
       "      <td>18.0</td>\n",
       "      <td>8</td>\n",
       "      <td>318.0</td>\n",
       "      <td>150.0</td>\n",
       "      <td>3436.0</td>\n",
       "      <td>11.0</td>\n",
       "      <td>70</td>\n",
       "      <td>1</td>\n",
       "      <td>plymouth satellite</td>\n",
       "    </tr>\n",
       "    <tr>\n",
       "      <th>3</th>\n",
       "      <td>16.0</td>\n",
       "      <td>8</td>\n",
       "      <td>304.0</td>\n",
       "      <td>150.0</td>\n",
       "      <td>3433.0</td>\n",
       "      <td>12.0</td>\n",
       "      <td>70</td>\n",
       "      <td>1</td>\n",
       "      <td>amc rebel sst</td>\n",
       "    </tr>\n",
       "    <tr>\n",
       "      <th>4</th>\n",
       "      <td>17.0</td>\n",
       "      <td>8</td>\n",
       "      <td>302.0</td>\n",
       "      <td>140.0</td>\n",
       "      <td>3449.0</td>\n",
       "      <td>10.5</td>\n",
       "      <td>70</td>\n",
       "      <td>1</td>\n",
       "      <td>ford torino</td>\n",
       "    </tr>\n",
       "  </tbody>\n",
       "</table>\n",
       "</div>"
      ],
      "text/plain": [
       "    mpg  cylinders  displacement horsepower  weight  acceleration  model_year  \\\n",
       "0  18.0          8         307.0      130.0  3504.0          12.0          70   \n",
       "1  15.0          8         350.0      165.0  3693.0          11.5          70   \n",
       "2  18.0          8         318.0      150.0  3436.0          11.0          70   \n",
       "3  16.0          8         304.0      150.0  3433.0          12.0          70   \n",
       "4  17.0          8         302.0      140.0  3449.0          10.5          70   \n",
       "\n",
       "   origin                   car_name  \n",
       "0       1  chevrolet chevelle malibu  \n",
       "1       1          buick skylark 320  \n",
       "2       1         plymouth satellite  \n",
       "3       1              amc rebel sst  \n",
       "4       1                ford torino  "
      ]
     },
     "execution_count": 3,
     "metadata": {},
     "output_type": "execute_result"
    }
   ],
   "source": [
    "#Names of all of the columns\n",
    "names = [\n",
    "       'mpg'\n",
    "    ,  'cylinders'\n",
    "    ,  'displacement'\n",
    "    ,  'horsepower'\n",
    "    ,  'weight'\n",
    "    ,  'acceleration'\n",
    "    ,  'model_year'\n",
    "    ,  'origin'\n",
    "    ,  'car_name'\n",
    "]\n",
    "\n",
    "#Import dataset\n",
    "data = pd.read_csv('auto-mpg.data', sep = '\\s+', header = None, names = names)\n",
    "\n",
    "data.head()"
   ]
  },
  {
   "cell_type": "code",
   "execution_count": 4,
   "metadata": {
    "collapsed": false
   },
   "outputs": [
    {
     "data": {
      "text/plain": [
       "(398, 9)"
      ]
     },
     "execution_count": 4,
     "metadata": {},
     "output_type": "execute_result"
    }
   ],
   "source": [
    "data.shape"
   ]
  },
  {
   "cell_type": "code",
   "execution_count": 5,
   "metadata": {
    "collapsed": false
   },
   "outputs": [
    {
     "data": {
      "text/plain": [
       "(392, 9)"
      ]
     },
     "execution_count": 5,
     "metadata": {},
     "output_type": "execute_result"
    }
   ],
   "source": [
    "#Drop nas (labelled as ? in this dataset) -> dropped 6 rows\n",
    "data_clean=data.applymap(lambda x: np.nan if x == '?' else x).dropna()\n",
    "\n",
    "data_clean.shape"
   ]
  },
  {
   "cell_type": "code",
   "execution_count": 6,
   "metadata": {
    "collapsed": false
   },
   "outputs": [],
   "source": [
    "#Select Predictor columns\n",
    "X = data_clean[['cylinders', 'displacement', 'horsepower', 'weight', 'acceleration', 'model_year', \"origin\"]]\n",
    "\n",
    "#Select target column\n",
    "y = data_clean['mpg']"
   ]
  },
  {
   "cell_type": "code",
   "execution_count": 31,
   "metadata": {
    "collapsed": false
   },
   "outputs": [],
   "source": [
    "#Split data into training and testing sets\n",
    "X_train, X_test, y_train, y_test = train_test_split(X, y, train_size=0.8, test_size=0.2)"
   ]
  },
  {
   "cell_type": "code",
   "execution_count": 59,
   "metadata": {
    "collapsed": false
   },
   "outputs": [
    {
     "data": {
      "text/plain": [
       "[('cylinders', -0.31018566560924382),\n",
       " ('displacement', 0.01426185446892466),\n",
       " ('horsepower', -0.011489741294476245),\n",
       " ('weight', -0.0062802200287685834),\n",
       " ('acceleration', 0.08211330942952208),\n",
       " ('model_year', 0.75664441357018108),\n",
       " ('origin', 1.622526137700109)]"
      ]
     },
     "execution_count": 59,
     "metadata": {},
     "output_type": "execute_result"
    }
   ],
   "source": [
    "#Train a simple linear regression model\n",
    "regr = linear_model.LinearRegression()\n",
    "regr.fit(X_train, y_train)\n",
    "\n",
    "#Print coefficients\n",
    "list(zip(names[1:8], regr.coef_))"
   ]
  },
  {
   "cell_type": "code",
   "execution_count": 70,
   "metadata": {
    "collapsed": false
   },
   "outputs": [
    {
     "name": "stdout",
     "output_type": "stream",
     "text": [
      "Mean Squared Error: 10.3198 \n",
      " R-squared: 0.8307\n"
     ]
    }
   ],
   "source": [
    "#Mean Squared error and R-squared on the training set\n",
    "preds = regr.predict(X_train)\n",
    "mse = np.mean((preds - y_train) ** 2)\n",
    "rsq = regr.score(X_train, y_train)\n",
    "\n",
    "print(\"Mean Squared Error: %.4f \\n R-squared: %.4f\" % (mse,rsq))"
   ]
  },
  {
   "cell_type": "code",
   "execution_count": 71,
   "metadata": {
    "collapsed": false
   },
   "outputs": [
    {
     "name": "stdout",
     "output_type": "stream",
     "text": [
      "Mean Squared Error: 13.1824 \n",
      " R-squared: 0.7779\n"
     ]
    }
   ],
   "source": [
    "#Test model on held out test set\n",
    "#Mean Squared error on the testing set\n",
    "preds_ = regr.predict(X_test)\n",
    "mse_ = np.mean((preds_ - y_test) ** 2)\n",
    "rsq_ = regr.score(X_test, y_test)\n",
    "\n",
    "print(\"Mean Squared Error: %.4f \\n R-squared: %.4f\" % (mse_,rsq_))"
   ]
  },
  {
   "cell_type": "code",
   "execution_count": 54,
   "metadata": {
    "collapsed": false
   },
   "outputs": [
    {
     "name": "stdout",
     "output_type": "stream",
     "text": [
      "Populating the interactive namespace from numpy and matplotlib\n"
     ]
    },
    {
     "data": {
      "text/plain": [
       "<matplotlib.collections.PathCollection at 0x7f8af53e5518>"
      ]
     },
     "execution_count": 54,
     "metadata": {},
     "output_type": "execute_result"
    },
    {
     "data": {
      "image/png": "[encoded data removed]",
      "text/plain": [
       "<matplotlib.figure.Figure at 0x7f8af54df7b8>"
      ]
     },
     "metadata": {},
     "output_type": "display_data"
    }
   ],
   "source": [
    "%pylab inline\n",
    "#Predicted vs. errors plot -> demonstrates an issue with this fit (high bias)\n",
    "plt.scatter(regr.predict(X_train), regr.predict(X_train)-y_train)\n",
    "plt.plot([-5,40],[0,0], color = \"red\")\n",
    "\n",
    "#place testing data on the plot as well\n",
    "plt.scatter(regr.predict(X_test), regr.predict(X_test)-y_test, color = \"yellow\")"
   ]
  },
  {
   "cell_type": "code",
   "execution_count": null,
   "metadata": {
    "collapsed": false
   },
   "outputs": [],
   "source": [
    "def scatterplot_matrix(data, names, **kwargs):\n",
    "    \"\"\"Plots a scatterplot matrix of subplots.  Each row of \"data\" is plotted\n",
    "    against other rows, resulting in a nrows by nrows grid of subplots with the\n",
    "    diagonal subplots labeled with \"names\".  Additional keyword arguments are\n",
    "    passed on to matplotlib's \"plot\" command. Returns the matplotlib figure\n",
    "    object containg the subplot grid.\"\"\"\n",
    "    numvars, numdata = data.shape\n",
    "    fig, axes = plt.subplots(nrows=numvars, ncols=numvars, figsize=(8,8))\n",
    "    fig.subplots_adjust(hspace=0.05, wspace=0.05)\n",
    "\n",
    "    for ax in axes.flat:\n",
    "        # Hide all ticks and labels\n",
    "        ax.xaxis.set_visible(False)\n",
    "        ax.yaxis.set_visible(False)\n",
    "\n",
    "        # Set up ticks only on one side for the \"edge\" subplots...\n",
    "        if ax.is_first_col():\n",
    "            ax.yaxis.set_ticks_position('left')\n",
    "        if ax.is_last_col():\n",
    "            ax.yaxis.set_ticks_position('right')\n",
    "        if ax.is_first_row():\n",
    "            ax.xaxis.set_ticks_position('top')\n",
    "        if ax.is_last_row():\n",
    "            ax.xaxis.set_ticks_position('bottom')\n",
    "\n",
    "fig = scatterplot_matrix(data, ['mpg'\n",
    "    ,  'cylinders'\n",
    "    ,  'displacement'\n",
    "    ,  'horsepower'\n",
    "    ,  'weight'\n",
    "    ,  'acceleration'\n",
    "    ,  'model_year'\n",
    "    ,  'origin'],\n",
    "            linestyle='none', marker='o', color='black', mfc='none')\n",
    "fig.suptitle('Simple Scatterplot Matrix')\n",
    "plt.show()"
   ]
  },
  {
   "cell_type": "markdown",
   "metadata": {},
   "source": [
    "## Data Tasks\n",
    "\n",
    "1. Read in file\n",
    "    - Different types of separators (',',' ', '\\t', '\\s', etc.)\n",
    "    - Specify whether there is a header or not\n",
    "    - Name different columns\n",
    "    \n",
    "1. Handle missing values (ex. ?, NA, etc.)\n",
    "    - remove these examples?\n",
    "    - set these values to an arbitrary value like 0 or NA\n",
    "    - replace missing values with the mean\n",
    "\n",
    "1. Select columns for the regression tasks\n",
    "    - Select columns I want to use as predictors\n",
    "    - Select which column I am looking to target and predict\n",
    "\n",
    "1. Transform columns or variables\n",
    "    - create new features from the features we already have (combinations, squaring, cubing, etc.)\n",
    "    - PCA?\n",
    "    - scaling?\n",
    "    \n",
    "1. Split data into training and testing sets\n",
    "    - Set a percentage or value for a training or testing set sizes\n",
    "    - Also create a validation set?\n",
    "    - Crossvalidation instead?\n",
    "    \n",
    "1. Train model using the training data\n",
    "\n",
    "1. Perform diagnostics on the model\n",
    "    - See coefficients\n",
    "    - See metrics like mean squared error, residual sum of errors, r-squared, etc.\n",
    "\n",
    "1. Test model on held out testing set\n",
    "    - See metrics like mean squared error, residual sum of errors, etc.\n",
    "    \n",
    "1. Visualizations\n",
    "    - Visualize dataset as a whole (scatter plot matrix)\n",
    "    - See diagnostic plots (cooks distances, deviances, predicted vs. actual, etc.)\n",
    "    - bias or variance issues? \n",
    "    \n",
    "1. Repeat for a new model\n",
    "\n"
   ]
  }
 ],
 "metadata": {
  "kernelspec": {
   "display_name": "Python 3",
   "language": "python",
   "name": "python3"
  },
  "language_info": {
   "codemirror_mode": {
    "name": "ipython",
    "version": 3
   },
   "file_extension": ".py",
   "mimetype": "text/x-python",
   "name": "python",
   "nbconvert_exporter": "python",
   "pygments_lexer": "ipython3",
   "version": "3.5.1"
  }
 },
 "nbformat": 4,
 "nbformat_minor": 0
}
