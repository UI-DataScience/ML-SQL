{
 "cells": [
  {
   "cell_type": "markdown",
   "metadata": {},
   "source": [
    "# ML-SQL language (1st-take)\n",
    "\n",
    "## Authors\n",
    "\n",
    "Written by: Neeraj Asthana (under Professor Robert Brunner)\n",
    "\n",
    "University of Illinois at Urbana-Champaign\n",
    "\n",
    "Summer 2016\n",
    "\n",
    "## Acknowledgements\n",
    "\n",
    "Followed Tutorial at: http://www.onlamp.com/lpt/a/6435\n",
    "\n",
    "## Description\n",
    "\n",
    "This notebook is meant to experiment with constructs for the ML-SQL language. The goal is to be able to understand ML-SQL syntax and port commands to actionable directives in Python.\n",
    "\n",
    "___"
   ]
  },
  {
   "cell_type": "code",
   "execution_count": 142,
   "metadata": {
    "collapsed": false
   },
   "outputs": [],
   "source": [
    "#Libraries\n",
    "#from pyparsing import Word, Literal, alphas, Optional, OneOrMore, Group, Or, Combine, oneOf\n",
    "from pyparsing import *\n",
    "import string\n",
    "import sys\n",
    "import pandas as pd"
   ]
  },
  {
   "cell_type": "markdown",
   "metadata": {},
   "source": [
    "___\n",
    "\n",
    "### Grammer Definition\n",
    "\n",
    "Literals and Valid Symbols that are possible in the ML-SQL language"
   ]
  },
  {
   "cell_type": "code",
   "execution_count": 121,
   "metadata": {
    "collapsed": false
   },
   "outputs": [
    {
     "data": {
      "text/plain": [
       "'abcdefghijklmnopqrstuvwxyzABCDEFGHIJKLMNOPQRSTUVWXYZ!\"#$%&\\'()*+,-./:;<=>?@[\\\\]^_`{|}~0123456789'"
      ]
     },
     "execution_count": 121,
     "metadata": {},
     "output_type": "execute_result"
    }
   ],
   "source": [
    "letters = string.ascii_letters\n",
    "punctuation = string.punctuation\n",
    "numbers = string.digits\n",
    "whitespace = string.whitespace\n",
    "\n",
    "#combinations\n",
    "everything = letters + punctuation + numbers\n",
    "everythingWOQuotes = everything.replace(\"\\\"\", \"\").replace(\"'\", \"\")\n",
    "\n",
    "#Booleans\n",
    "bools = Literal(\"True\") + Literal(\"False\")\n",
    "\n",
    "#Parenthesis and Quotes\n",
    "openParen = Literal(\"(\").suppress()\n",
    "closeParen = Literal(\")\").suppress()\n",
    "Quote = Literal('\"').suppress()\n",
    "\n",
    "#includes every combination except whitespace\n",
    "everything"
   ]
  },
  {
   "cell_type": "markdown",
   "metadata": {},
   "source": [
    "___\n",
    "\n",
    "### READ"
   ]
  },
  {
   "cell_type": "code",
   "execution_count": 137,
   "metadata": {
    "collapsed": false
   },
   "outputs": [],
   "source": [
    "filename = Word(everything).setResultsName(\"filename\")\n",
    "\n",
    "#define so that there can be multiple verisions of READ\n",
    "readKeyword = oneOf([\"Read\", \"READ\"]).suppress()\n",
    "\n",
    "#Define Read Optionals\n",
    "#header\n",
    "headerLiteral = (Literal(\"header\") + Literal(\"=\")).suppress()\n",
    "header = Optional(headerLiteral + Or(bools).setResultsName(\"header\"), default = \"False\" )\n",
    "\n",
    "#separator\n",
    "separatorLiteral = (Or([Literal(\"sep\"), Literal(\"separator\")]) + Literal(\"=\")).suppress()\n",
    "definesep = Quote + Word(everythingWOQuotes + whitespace).setResultsName(\"sep\") + Quote\n",
    "separator = Optional(separatorLiteral + definesep, default = \",\")\n",
    "\n",
    "#Compose Read Optionals\n",
    "readOptions = Optional(openParen + separator + header + closeParen)\n",
    "\n",
    "read = readKeyword + filename + readOptions"
   ]
  },
  {
   "cell_type": "code",
   "execution_count": 149,
   "metadata": {
    "collapsed": false
   },
   "outputs": [
    {
     "data": {
      "text/html": [
       "<div>\n",
       "<table border=\"1\" class=\"dataframe\">\n",
       "  <thead>\n",
       "    <tr style=\"text-align: right;\">\n",
       "      <th></th>\n",
       "      <th>0</th>\n",
       "      <th>1</th>\n",
       "      <th>2</th>\n",
       "      <th>3</th>\n",
       "      <th>4</th>\n",
       "    </tr>\n",
       "  </thead>\n",
       "  <tbody>\n",
       "    <tr>\n",
       "      <th>0</th>\n",
       "      <td>5.1</td>\n",
       "      <td>3.5</td>\n",
       "      <td>1.4</td>\n",
       "      <td>0.2</td>\n",
       "      <td>Iris-setosa</td>\n",
       "    </tr>\n",
       "    <tr>\n",
       "      <th>1</th>\n",
       "      <td>4.9</td>\n",
       "      <td>3.0</td>\n",
       "      <td>1.4</td>\n",
       "      <td>0.2</td>\n",
       "      <td>Iris-setosa</td>\n",
       "    </tr>\n",
       "    <tr>\n",
       "      <th>2</th>\n",
       "      <td>4.7</td>\n",
       "      <td>3.2</td>\n",
       "      <td>1.3</td>\n",
       "      <td>0.2</td>\n",
       "      <td>Iris-setosa</td>\n",
       "    </tr>\n",
       "    <tr>\n",
       "      <th>3</th>\n",
       "      <td>4.6</td>\n",
       "      <td>3.1</td>\n",
       "      <td>1.5</td>\n",
       "      <td>0.2</td>\n",
       "      <td>Iris-setosa</td>\n",
       "    </tr>\n",
       "    <tr>\n",
       "      <th>4</th>\n",
       "      <td>5.0</td>\n",
       "      <td>3.6</td>\n",
       "      <td>1.4</td>\n",
       "      <td>0.2</td>\n",
       "      <td>Iris-setosa</td>\n",
       "    </tr>\n",
       "  </tbody>\n",
       "</table>\n",
       "</div>"
      ],
      "text/plain": [
       "     0    1    2    3            4\n",
       "0  5.1  3.5  1.4  0.2  Iris-setosa\n",
       "1  4.9  3.0  1.4  0.2  Iris-setosa\n",
       "2  4.7  3.2  1.3  0.2  Iris-setosa\n",
       "3  4.6  3.1  1.5  0.2  Iris-setosa\n",
       "4  5.0  3.6  1.4  0.2  Iris-setosa"
      ]
     },
     "execution_count": 149,
     "metadata": {},
     "output_type": "execute_result"
    }
   ],
   "source": [
    "readTest = 'READ /home/ubuntu/notebooks/ML-SQL/Classification/iris.data (sep=\",\" header=False)'\n",
    "\n",
    "readTestResult = read.parseString(readTest)\n",
    "\n",
    "filename = readTestResult.filename\n",
    "header = readTestResult.header\n",
    "sep = readTestResult.sep\n",
    "\n",
    "#Function to lower a string value of \"True\" or \"False\" to an actual python boolean value\n",
    "def str_to_bool(s):\n",
    "    if s == 'True':\n",
    "         return True\n",
    "    elif s == 'False':\n",
    "         return None\n",
    "    else:\n",
    "         raise ValueError (\"Cannot lower value \" + s + \" to a boolean value\")\n",
    "            \n",
    "#read parameters from parsed statement and read the file\n",
    "f = pd.read_csv(filename, sep = sep, header = str_to_bool(header))\n",
    "f.head()"
   ]
  },
  {
   "cell_type": "markdown",
   "metadata": {},
   "source": [
    "___\n",
    "\n",
    "### SPLIT\n",
    "\n",
    "Splits dataset into training, testing, and validation sets. Give 3 non-negative decimals that sum to 1 to specify these quantities."
   ]
  },
  {
   "cell_type": "code",
   "execution_count": 165,
   "metadata": {
    "collapsed": true
   },
   "outputs": [],
   "source": [
    "#define so that there can be multiple verisions of READ\n",
    "splitKeyword = oneOf([\"Split\", \"SPLIT\"]).suppress()\n",
    "\n",
    "#Phrases used to organize splits\n",
    "trainPhrase = (Literal(\"train\") + Literal(\"=\")).suppress()\n",
    "testPhrase = (Literal(\"test\") + Literal(\"=\")).suppress()\n",
    "valPhrase = (Literal(\"validation\") + Literal(\"=\")).suppress()\n",
    "\n",
    "#train, test, validation split values\n",
    "trainS = Combine(Literal(\".\") + Word(numbers)).setResultsName(\"train_split\")\n",
    "testS = Combine(Literal(\".\") + Word(numbers)).setResultsName(\"test_split\")\n",
    "valS = Combine(Literal(\".\") + Word(numbers)).setResultsName(\"validation_split\")\n",
    "\n",
    "#Compose phrases and values together \n",
    "training = trainPhrase + trainS\n",
    "testing = testPhrase + testS\n",
    "val = valPhrase + valS\n",
    "\n",
    "#Creating Optional Split phrase\n",
    "ocomma = Optional(\",\").suppress()\n",
    "split = Optional(splitKeyword + openParen + training + ocomma + testing + ocomma + val + closeParen)\n",
    "\n",
    "#Combining READ and SPLIT keywords into one clause for combined use\n",
    "read_split = read + split"
   ]
  },
  {
   "cell_type": "code",
   "execution_count": 166,
   "metadata": {
    "collapsed": false
   },
   "outputs": [
    {
     "name": "stdout",
     "output_type": "stream",
     "text": [
      "['.6', '.2', '.2']\n"
     ]
    }
   ],
   "source": [
    "#Split test\n",
    "splitTest = \"SPLIT (train = .6, test = .2, validation = .2)\"\n",
    "\n",
    "print(split.parseString(splitTest))"
   ]
  },
  {
   "cell_type": "code",
   "execution_count": null,
   "metadata": {
    "collapsed": true
   },
   "outputs": [],
   "source": [
    "#Read with Split test\n",
    "read_split_test = "
   ]
  }
 ],
 "metadata": {
  "kernelspec": {
   "display_name": "Python 3",
   "language": "python",
   "name": "python3"
  },
  "language_info": {
   "codemirror_mode": {
    "name": "ipython",
    "version": 3
   },
   "file_extension": ".py",
   "mimetype": "text/x-python",
   "name": "python",
   "nbconvert_exporter": "python",
   "pygments_lexer": "ipython3",
   "version": "3.5.1"
  }
 },
 "nbformat": 4,
 "nbformat_minor": 0
}
