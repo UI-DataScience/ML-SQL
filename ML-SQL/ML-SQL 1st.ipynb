{
 "cells": [
  {
   "cell_type": "markdown",
   "metadata": {},
   "source": [
    "# ML-SQL language (1st-take)\n",
    "\n",
    "## Authors\n",
    "\n",
    "Written by: Neeraj Asthana (under Professor Robert Brunner)\n",
    "\n",
    "University of Illinois at Urbana-Champaign\n",
    "\n",
    "Summer 2016\n",
    "\n",
    "## Acknowledgements\n",
    "\n",
    "Followed Tutorial at: http://www.onlamp.com/lpt/a/6435\n",
    "\n",
    "## Description\n",
    "\n",
    "This notebook is meant to experiment with constructs for the ML-SQL language. The goal is to be able to understand ML-SQL syntax and port commands to actionable directives in Python.\n",
    "\n",
    "___"
   ]
  },
  {
   "cell_type": "code",
   "execution_count": 5,
   "metadata": {
    "collapsed": true
   },
   "outputs": [],
   "source": [
    "#Libraries\n",
    "from pyparsing import Word, Literal, alphas, Optional, OneOrMore, Group\n",
    "import string"
   ]
  },
  {
   "cell_type": "markdown",
   "metadata": {},
   "source": [
    "___\n",
    "\n",
    "### Literals and Valid Symbols"
   ]
  },
  {
   "cell_type": "code",
   "execution_count": 7,
   "metadata": {
    "collapsed": false
   },
   "outputs": [
    {
     "data": {
      "text/plain": [
       "'abcdefghijklmnopqrstuvwxyzABCDEFGHIJKLMNOPQRSTUVWXYZ!\"#$%&\\'()*+,-./:;<=>?@[\\\\]^_`{|}~0123456789'"
      ]
     },
     "execution_count": 7,
     "metadata": {},
     "output_type": "execute_result"
    }
   ],
   "source": [
    "letters = string.ascii_letters\n",
    "punctuation = string.punctuation\n",
    "numbers = string.digits\n",
    "everything = letters + punctuation + numbers\n",
    "\n",
    "everything"
   ]
  },
  {
   "cell_type": "markdown",
   "metadata": {},
   "source": [
    "### READ"
   ]
  },
  {
   "cell_type": "code",
   "execution_count": 6,
   "metadata": {
    "collapsed": false
   },
   "outputs": [
    {
     "data": {
      "text/plain": [
       "'abcdefghijklmnopqrstuvwxyzABCDEFGHIJKLMNOPQRSTUVWXYZ'"
      ]
     },
     "execution_count": 6,
     "metadata": {},
     "output_type": "execute_result"
    }
   ],
   "source": [
    "letters = string.ascii_letters\n",
    "\n",
    "letters"
   ]
  }
 ],
 "metadata": {
  "kernelspec": {
   "display_name": "Python 3",
   "language": "python",
   "name": "python3"
  },
  "language_info": {
   "codemirror_mode": {
    "name": "ipython",
    "version": 3
   },
   "file_extension": ".py",
   "mimetype": "text/x-python",
   "name": "python",
   "nbconvert_exporter": "python",
   "pygments_lexer": "ipython3",
   "version": "3.5.1"
  }
 },
 "nbformat": 4,
 "nbformat_minor": 0
}
