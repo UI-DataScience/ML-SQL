{
 "cells": [
  {
   "cell_type": "markdown",
   "metadata": {},
   "source": [
    "# Iris dataset\n",
    "\n",
    "## Authors\n",
    "\n",
    "Written by: Neeraj Asthana (under Professor Robert Brunner)\n",
    "\n",
    "University of Illinois at Urbana-Champaign\n",
    "\n",
    "Summer 2016\n",
    "\n",
    "## Acknowledgements\n",
    "\n",
    "Dataset found on UCI Machine Learning repository at: https://archive.ics.uci.edu/ml/datasets/Iris\n",
    "\n",
    "## Dataset Information\n",
    "\n",
    "This data set tries to predict the species of Iris using many different continuous predictors\n",
    "\n",
    "A description of the dataset can be found at: http://archive.ics.uci.edu/ml/datasets/Iris/iris.names\n",
    "\n",
    "Predictors:\n",
    "\n",
    "- petal length (continuous)\n",
    "- petal width (continuous)\n",
    "- sepal length (continuous)\n",
    "- sepal width (continuous)"
   ]
  },
  {
   "cell_type": "code",
   "execution_count": 2,
   "metadata": {
    "collapsed": false
   },
   "outputs": [
    {
     "name": "stdout",
     "output_type": "stream",
     "text": [
      "['read', 'iris.data', ',', 'False', 'SPLIT', '.8', '.2', '.0', 'CLASSIFY', '1,2,3,4', '5', 'SVM']\n",
      "filename: iris.data\n",
      "header: False\n",
      "separator: ,\n",
      "train size: .8\n",
      "test size: .2\n",
      "predictors: 1,2,3,4\n",
      "label: 5\n",
      "algorithm: SVM\n",
      "replace columns: \n",
      "replace value: \n",
      "replace identifier: \n",
      "\n",
      "     0    1    2    3            4\n",
      "0  5.1  3.5  1.4  0.2  Iris-setosa\n",
      "1  4.9  3.0  1.4  0.2  Iris-setosa\n",
      "2  4.7  3.2  1.3  0.2  Iris-setosa\n",
      "3  4.6  3.1  1.5  0.2  Iris-setosa\n",
      "4  5.0  3.6  1.4  0.2  Iris-setosa\n",
      "0.966666666667\n"
     ]
    }
   ],
   "source": [
    "from mlsql import execute\n",
    "\n",
    "query = 'READ iris.data (separator = \",\", header = False) \\\n",
    "        SPLIT (train = .8, test = .2, validation = .0) \\\n",
    "        CLASSIFY (predictors = [1,2,3,4], label = 5, algorithm = SVM)'\n",
    "\n",
    "execute(query)"
   ]
  }
 ],
 "metadata": {
  "kernelspec": {
   "display_name": "Python 3",
   "language": "python",
   "name": "python3"
  },
  "language_info": {
   "codemirror_mode": {
    "name": "ipython",
    "version": 3
   },
   "file_extension": ".py",
   "mimetype": "text/x-python",
   "name": "python",
   "nbconvert_exporter": "python",
   "pygments_lexer": "ipython3",
   "version": "3.5.1"
  }
 },
 "nbformat": 4,
 "nbformat_minor": 0
}
