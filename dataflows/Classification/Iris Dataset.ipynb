{
 "cells": [
  {
   "cell_type": "markdown",
   "metadata": {},
   "source": [
    "# Iris dataset\n",
    "\n",
    "## Authors\n",
    "\n",
    "Written by: Neeraj Asthana (under Professor Robert Brunner)\n",
    "\n",
    "University of Illinois at Urbana-Champaign\n",
    "\n",
    "Summer 2016\n",
    "\n",
    "## Acknowledgements\n",
    "\n",
    "Dataset found on UCI Machine Learning repository at: https://archive.ics.uci.edu/ml/datasets/Iris\n",
    "\n",
    "## Dataset Information\n",
    "\n",
    "This data set tries to predict the species of Iris using many different continuous predictors\n",
    "\n",
    "A description of the dataset can be found at: http://archive.ics.uci.edu/ml/datasets/Iris/iris.names\n",
    "\n",
    "Predictors:\n",
    "\n",
    "- petal length (continuous)\n",
    "- petal width (continuous)\n",
    "- sepal length (continuous)\n",
    "- sepal width (continuous)"
   ]
  },
  {
   "cell_type": "code",
   "execution_count": null,
   "metadata": {
    "collapsed": true
   },
   "outputs": [],
   "source": [
    "from mlsql import execute\n",
    "\n",
    "query = 'READ iris.data (separator = \",\", header = False) \\\n",
    "        '"
   ]
  }
 ],
 "metadata": {
  "kernelspec": {
   "display_name": "Python 3",
   "language": "python",
   "name": "python3"
  },
  "language_info": {
   "codemirror_mode": {
    "name": "ipython",
    "version": 3
   },
   "file_extension": ".py",
   "mimetype": "text/x-python",
   "name": "python",
   "nbconvert_exporter": "python",
   "pygments_lexer": "ipython3",
   "version": "3.5.1"
  }
 },
 "nbformat": 4,
 "nbformat_minor": 0
}
