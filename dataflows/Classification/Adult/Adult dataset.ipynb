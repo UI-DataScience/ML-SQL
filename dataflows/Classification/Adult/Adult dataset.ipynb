{
 "cells": [
  {
   "cell_type": "markdown",
   "metadata": {},
   "source": [
    "# Adult dataset\n",
    "\n",
    "## Authors\n",
    "\n",
    "Written by: Neeraj Asthana (under Professor Robert Brunner)\n",
    "\n",
    "University of Illinois at Urbana-Champaign\n",
    "\n",
    "Summer 2016\n",
    "\n",
    "## Acknowledgements\n",
    "\n",
    "Dataset found on UCI Machine Learning repository at: https://archive.ics.uci.edu/ml/machine-learning-databases/adult/adult.data\n",
    "\n",
    "## Dataset Information\n",
    "\n",
    "This data set tries to predict whether an adult earns over $50,000 using many different predictors\n",
    "\n",
    "A description of the dataset can be found at: https://archive.ics.uci.edu/ml/machine-learning-databases/adult/adult.names\n",
    "\n",
    "Predictors:\n",
    "\n",
    "- age (continuous)\n",
    "- workclass (discrete)\n",
    "- fnlwgt: (continuous)\n",
    "- education (discrete)\n",
    "- education-num (continuous)\n",
    "- marital-status (discrete)\n",
    "- occupation (discrete)\n",
    "- relationship (discrete)\n",
    "- race (discrete)\n",
    "- sex (discrete)\n",
    "- capital-gain (continuous)\n",
    "- capital-loss (continuous)\n",
    "- hours-per-week (continuous)\n",
    "- native-country (discrete)\n",
    "\n",
    "## Algorithm\n",
    "\n",
    "Logistic Regression"
   ]
  },
  {
   "cell_type": "code",
   "execution_count": 1,
   "metadata": {
    "collapsed": false
   },
   "outputs": [
    {
     "name": "stdout",
     "output_type": "stream",
     "text": [
      "['read', 'adult.data', 'SPLIT', '.8', '0.2', 'CLASSIFY', '1,3,11,12', '15', 'Logistic']\n",
      "filename: adult.data\n",
      "header: \n",
      "separator: \n",
      "train size: .8\n",
      "test size: 0.2\n",
      "predictors: 1,3,11,12\n",
      "label: 15\n",
      "algorithm: Logistic\n",
      "replace columns: \n",
      "replace value: \n",
      "replace identifier: \n",
      "\n",
      "   0                  1       2           3   4                    5   \\\n",
      "0  39          State-gov   77516   Bachelors  13        Never-married   \n",
      "1  50   Self-emp-not-inc   83311   Bachelors  13   Married-civ-spouse   \n",
      "2  38            Private  215646     HS-grad   9             Divorced   \n",
      "3  53            Private  234721        11th   7   Married-civ-spouse   \n",
      "4  28            Private  338409   Bachelors  13   Married-civ-spouse   \n",
      "\n",
      "                   6               7       8        9     10  11  12  \\\n",
      "0        Adm-clerical   Not-in-family   White     Male  2174   0  40   \n",
      "1     Exec-managerial         Husband   White     Male     0   0  13   \n",
      "2   Handlers-cleaners   Not-in-family   White     Male     0   0  40   \n",
      "3   Handlers-cleaners         Husband   Black     Male     0   0  40   \n",
      "4      Prof-specialty            Wife   Black   Female     0   0  40   \n",
      "\n",
      "               13      14  \n",
      "0   United-States   <=50K  \n",
      "1   United-States   <=50K  \n",
      "2   United-States   <=50K  \n",
      "3   United-States   <=50K  \n",
      "4            Cuba   <=50K  \n",
      "0.79671426378\n"
     ]
    }
   ],
   "source": [
    "from mlsql import execute\n",
    "\n",
    "query = 'READ \"adult.data\" \\\n",
    "        SPLIT (train = .8, test = 0.2) \\\n",
    "        CLASSIFY (predictors = [1,3,11,12], label = 15, algorithm = Logistic)'\n",
    "\n",
    "execute(query)"
   ]
  }
 ],
 "metadata": {
  "kernelspec": {
   "display_name": "Python 3",
   "language": "python",
   "name": "python3"
  },
  "language_info": {
   "codemirror_mode": {
    "name": "ipython",
    "version": 3
   },
   "file_extension": ".py",
   "mimetype": "text/x-python",
   "name": "python",
   "nbconvert_exporter": "python",
   "pygments_lexer": "ipython3",
   "version": "3.5.1"
  }
 },
 "nbformat": 4,
 "nbformat_minor": 0
}
