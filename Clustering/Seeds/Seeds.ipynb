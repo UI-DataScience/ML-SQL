{
 "cells": [
  {
   "cell_type": "markdown",
   "metadata": {},
   "source": [
    "# Seeds dataset (Clustering)\n",
    "\n",
    "## Authors\n",
    "\n",
    "Written by: Neeraj Asthana (under Professor Robert Brunner)\n",
    "\n",
    "University of Illinois at Urbana-Champaign\n",
    "\n",
    "Summer 2016\n",
    "\n",
    "## Acknowledgements\n",
    "\n",
    "Dataset found on UCI Machine Learning repository at: https://archive.ics.uci.edu/ml/datasets/seeds\n",
    "\n",
    "## Dataset Information\n",
    "\n",
    "This data set tries to cluster seeds (type) using many different continous predcitors.\n",
    "\n",
    "A description of the dataset can be found at: https://archive.ics.uci.edu/ml/datasets/seeds\n",
    "\n",
    "Predictors:\n",
    "\n",
    "- area A\n",
    "- perimeter P\n",
    "- compactness C = 4*pi*A/P^2\n",
    "- length of kernel\n",
    "- width of kernel\n",
    "- asymmetry coefficient \n",
    "- length of kernel groove"
   ]
  },
  {
   "cell_type": "code",
   "execution_count": 2,
   "metadata": {
    "collapsed": false
   },
   "outputs": [],
   "source": [
    "#Libraries and Imports\n",
    "import pandas as pd\n",
    "import numpy as np\n",
    "import matplotlib.pyplot as plt\n",
    "from sklearn.neighbors import NearestNeighbors"
   ]
  },
  {
   "cell_type": "code",
   "execution_count": 6,
   "metadata": {
    "collapsed": false
   },
   "outputs": [
    {
     "data": {
      "text/html": [
       "<div>\n",
       "<table border=\"1\" class=\"dataframe\">\n",
       "  <thead>\n",
       "    <tr style=\"text-align: right;\">\n",
       "      <th></th>\n",
       "      <th>area</th>\n",
       "      <th>perimeter</th>\n",
       "      <th>compactness</th>\n",
       "      <th>length</th>\n",
       "      <th>width</th>\n",
       "      <th>asymmetry</th>\n",
       "      <th>length</th>\n",
       "      <th>class</th>\n",
       "    </tr>\n",
       "  </thead>\n",
       "  <tbody>\n",
       "    <tr>\n",
       "      <th>0</th>\n",
       "      <td>15.26</td>\n",
       "      <td>14.84</td>\n",
       "      <td>0.8710</td>\n",
       "      <td>5.220</td>\n",
       "      <td>3.312</td>\n",
       "      <td>2.221</td>\n",
       "      <td>5.220</td>\n",
       "      <td>1.0</td>\n",
       "    </tr>\n",
       "    <tr>\n",
       "      <th>1</th>\n",
       "      <td>14.88</td>\n",
       "      <td>14.57</td>\n",
       "      <td>0.8811</td>\n",
       "      <td>4.956</td>\n",
       "      <td>3.333</td>\n",
       "      <td>1.018</td>\n",
       "      <td>4.956</td>\n",
       "      <td>1.0</td>\n",
       "    </tr>\n",
       "    <tr>\n",
       "      <th>2</th>\n",
       "      <td>14.29</td>\n",
       "      <td>14.09</td>\n",
       "      <td>0.9050</td>\n",
       "      <td>4.825</td>\n",
       "      <td>3.337</td>\n",
       "      <td>2.699</td>\n",
       "      <td>4.825</td>\n",
       "      <td>1.0</td>\n",
       "    </tr>\n",
       "    <tr>\n",
       "      <th>3</th>\n",
       "      <td>13.84</td>\n",
       "      <td>13.94</td>\n",
       "      <td>0.8955</td>\n",
       "      <td>4.805</td>\n",
       "      <td>3.379</td>\n",
       "      <td>2.259</td>\n",
       "      <td>4.805</td>\n",
       "      <td>1.0</td>\n",
       "    </tr>\n",
       "    <tr>\n",
       "      <th>4</th>\n",
       "      <td>16.14</td>\n",
       "      <td>14.99</td>\n",
       "      <td>0.9034</td>\n",
       "      <td>5.175</td>\n",
       "      <td>3.562</td>\n",
       "      <td>1.355</td>\n",
       "      <td>5.175</td>\n",
       "      <td>1.0</td>\n",
       "    </tr>\n",
       "  </tbody>\n",
       "</table>\n",
       "</div>"
      ],
      "text/plain": [
       "    area  perimeter  compactness  length  width  asymmetry  length  class\n",
       "0  15.26      14.84       0.8710   5.220  3.312      2.221   5.220    1.0\n",
       "1  14.88      14.57       0.8811   4.956  3.333      1.018   4.956    1.0\n",
       "2  14.29      14.09       0.9050   4.825  3.337      2.699   4.825    1.0\n",
       "3  13.84      13.94       0.8955   4.805  3.379      2.259   4.805    1.0\n",
       "4  16.14      14.99       0.9034   5.175  3.562      1.355   5.175    1.0"
      ]
     },
     "execution_count": 6,
     "metadata": {},
     "output_type": "execute_result"
    }
   ],
   "source": [
    "#Names of all of the columns\n",
    "names = [\n",
    "       'area'\n",
    "    ,  'perimeter'\n",
    "    ,  'compactness'\n",
    "    ,  'length'\n",
    "    ,  'width'\n",
    "    ,  'asymmetry'\n",
    "    ,  'length'\n",
    "    ,  'class'\n",
    "]\n",
    "\n",
    "#Import dataset\n",
    "data = pd.read_csv('seeds_dataset.txt', sep = '\\t', header = None, names = names)\n",
    "\n",
    "data.head()"
   ]
  },
  {
   "cell_type": "code",
   "execution_count": 4,
   "metadata": {
    "collapsed": false
   },
   "outputs": [
    {
     "data": {
      "text/plain": [
       "(210, 8)"
      ]
     },
     "execution_count": 4,
     "metadata": {},
     "output_type": "execute_result"
    }
   ],
   "source": [
    "data.shape"
   ]
  },
  {
   "cell_type": "code",
   "execution_count": 8,
   "metadata": {
    "collapsed": false
   },
   "outputs": [
    {
     "data": {
      "text/plain": [
       "(199, 8)"
      ]
     },
     "execution_count": 8,
     "metadata": {},
     "output_type": "execute_result"
    }
   ],
   "source": [
    "#Drop nas (labelled as ? in this dataset) -> dropped 6 rows\n",
    "#data_clean=data.applymap(lambda x: np.nan if x == '?' else x).dropna()\n",
    "data_clean = data.dropna()\n",
    "\n",
    "data_clean.shape"
   ]
  },
  {
   "cell_type": "code",
   "execution_count": null,
   "metadata": {
    "collapsed": true
   },
   "outputs": [],
   "source": []
  },
  {
   "cell_type": "code",
   "execution_count": 39,
   "metadata": {
    "collapsed": false
   },
   "outputs": [],
   "source": [
    "#Select Predictor columns\n",
    "X = data_clean[['cylinders', 'displacement', 'horsepower', 'weight', 'acceleration', 'model_year', \"origin\"]]\n",
    "\n",
    "#Select target column\n",
    "y = data_clean['mpg']"
   ]
  },
  {
   "cell_type": "code",
   "execution_count": 56,
   "metadata": {
    "collapsed": false
   },
   "outputs": [],
   "source": [
    "#Split data into training and testing sets\n",
    "X_train, X_test, y_train, y_test = train_test_split(X, y, train_size=0.8, test_size=0.2)"
   ]
  },
  {
   "cell_type": "code",
   "execution_count": 57,
   "metadata": {
    "collapsed": false
   },
   "outputs": [
    {
     "data": {
      "text/plain": [
       "[('cylinders', -0.44780992748457576),\n",
       " ('displacement', 0.020278830009325951),\n",
       " ('horsepower', -0.024307678410886283),\n",
       " ('weight', -0.0062621625124574583),\n",
       " ('acceleration', 0.07582477840381352),\n",
       " ('model_year', 0.72938384661765776),\n",
       " ('origin', 1.3155182530109999)]"
      ]
     },
     "execution_count": 57,
     "metadata": {},
     "output_type": "execute_result"
    }
   ],
   "source": [
    "#Train a simple linear regression model\n",
    "regr = linear_model.LinearRegression()\n",
    "regr.fit(X_train, y_train)\n",
    "\n",
    "#Print coefficients\n",
    "list(zip(names[1:8], regr.coef_))"
   ]
  },
  {
   "cell_type": "code",
   "execution_count": 58,
   "metadata": {
    "collapsed": false
   },
   "outputs": [
    {
     "name": "stdout",
     "output_type": "stream",
     "text": [
      "Mean Squared Error: 10.4875 \n",
      " R-squared: 0.8233\n"
     ]
    }
   ],
   "source": [
    "#Mean Squared error and R-squared on the training set\n",
    "preds = regr.predict(X_train)\n",
    "mse = np.mean((preds - y_train) ** 2)\n",
    "rsq = regr.score(X_train, y_train)\n",
    "\n",
    "print(\"Mean Squared Error: %.4f \\n R-squared: %.4f\" % (mse,rsq))"
   ]
  },
  {
   "cell_type": "code",
   "execution_count": 59,
   "metadata": {
    "collapsed": false
   },
   "outputs": [
    {
     "name": "stdout",
     "output_type": "stream",
     "text": [
      "Mean Squared Error: 12.4737 \n",
      " R-squared: 0.8071\n"
     ]
    }
   ],
   "source": [
    "#Test model on held out test set\n",
    "#Mean Squared error on the testing set\n",
    "preds_ = regr.predict(X_test)\n",
    "mse_ = np.mean((preds_ - y_test) ** 2)\n",
    "rsq_ = regr.score(X_test, y_test)\n",
    "\n",
    "print(\"Mean Squared Error: %.4f \\n R-squared: %.4f\" % (mse_,rsq_))"
   ]
  },
  {
   "cell_type": "code",
   "execution_count": 60,
   "metadata": {
    "collapsed": false
   },
   "outputs": [
    {
     "name": "stdout",
     "output_type": "stream",
     "text": [
      "Populating the interactive namespace from numpy and matplotlib\n"
     ]
    },
    {
     "data": {
      "text/plain": [
       "<matplotlib.collections.PathCollection at 0x7f9a803fd048>"
      ]
     },
     "execution_count": 60,
     "metadata": {},
     "output_type": "execute_result"
    },
    {
     "data": {
      "image/png": "[encoded data removed]",
      "text/plain": [
       "<matplotlib.figure.Figure at 0x7f9a80423080>"
      ]
     },
     "metadata": {},
     "output_type": "display_data"
    }
   ],
   "source": [
    "%pylab inline\n",
    "#Predicted vs. errors plot -> demonstrates an issue with this fit (high bias)\n",
    "plt.scatter(regr.predict(X_train), regr.predict(X_train)-y_train)\n",
    "plt.plot([-5,40],[0,0], color = \"red\")\n",
    "\n",
    "#place testing data on the plot as well\n",
    "plt.scatter(regr.predict(X_test), regr.predict(X_test)-y_test, color = \"yellow\")"
   ]
  },
  {
   "cell_type": "markdown",
   "metadata": {},
   "source": [
    "## Data Tasks\n",
    "\n",
    "1. Read in file\n",
    "    - Different types of separators (',',' ', '\\t', '\\s', etc.)\n",
    "    - Specify whether there is a header or not\n",
    "    - Name different columns\n",
    "    \n",
    "1. Handle missing values (ex. ?, NA, etc.)\n",
    "    - remove these examples?\n",
    "    - set these values to an arbitrary value like 0 or NA\n",
    "    - replace missing values with the mean\n",
    "\n",
    "1. Select columns for the regression tasks\n",
    "    - Select columns I want to use as predictors\n",
    "    - Select which column I am looking to target and predict\n",
    "\n",
    "1. Transform columns or variables\n",
    "    - create new features from the features we already have (combinations, squaring, cubing, etc.)\n",
    "    - PCA?\n",
    "    - scaling?\n",
    "    \n",
    "1. Split data into training and testing sets\n",
    "    - Set a percentage or value for a training or testing set sizes\n",
    "    - Also create a validation set?\n",
    "    - Crossvalidation instead?\n",
    "    \n",
    "1. Train model using the training data\n",
    "    - include regularization? (lambda term)\n",
    "    - specify method (lasso, ridge, simple, SVM, etc.)\n",
    "\n",
    "1. Perform diagnostics on the model\n",
    "    - See coefficients\n",
    "    - See metrics like mean squared error, residual sum of errors, r-squared, etc.\n",
    "\n",
    "1. Test model on held out testing set\n",
    "    - See metrics like mean squared error, residual sum of errors, etc.\n",
    "    \n",
    "1. Visualizations\n",
    "    - Visualize dataset as a whole (scatter plot matrix)\n",
    "    - See diagnostic plots (cooks distances, deviances, predicted vs. actual, etc.)\n",
    "    - bias or variance issues? \n",
    "    \n",
    "1. Repeat for a new model\n",
    "\n"
   ]
  }
 ],
 "metadata": {
  "kernelspec": {
   "display_name": "Python 3",
   "language": "python",
   "name": "python3"
  },
  "language_info": {
   "codemirror_mode": {
    "name": "ipython",
    "version": 3
   },
   "file_extension": ".py",
   "mimetype": "text/x-python",
   "name": "python",
   "nbconvert_exporter": "python",
   "pygments_lexer": "ipython3",
   "version": "3.5.1"
  }
 },
 "nbformat": 4,
 "nbformat_minor": 0
}
