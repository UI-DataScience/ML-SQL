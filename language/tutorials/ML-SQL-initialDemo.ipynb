{
 "cells": [
  {
   "cell_type": "markdown",
   "metadata": {},
   "source": [
    "# ML-SQL language (1st-take)\n",
    "\n",
    "## Authors\n",
    "\n",
    "Written by: Neeraj Asthana (under Professor Robert Brunner)\n",
    "\n",
    "University of Illinois at Urbana-Champaign\n",
    "\n",
    "Summer 2016\n",
    "\n",
    "## Acknowledgements\n",
    "\n",
    "Followed Tutorial at: http://www.onlamp.com/lpt/a/6435\n",
    "\n",
    "## Description\n",
    "\n",
    "This notebook is meant to experiment with constructs for the ML-SQL language. The goal is to be able to understand ML-SQL syntax and port commands to actionable directives in Python.\n",
    "\n",
    "___"
   ]
  },
  {
   "cell_type": "code",
   "execution_count": 7,
   "metadata": {
    "collapsed": false
   },
   "outputs": [],
   "source": [
    "#Libraries\n",
    "#from pyparsing import Word, Literal, alphas, Optional, OneOrMore, Group, Or, Combine, oneOf\n",
    "from pyparsing import *\n",
    "import string\n",
    "import sys\n",
    "import pandas as pd\n",
    "from sklearn import svm\n",
    "from sklearn.linear_model import LogisticRegression\n",
    "from sklearn.cross_validation import train_test_split"
   ]
  },
  {
   "cell_type": "markdown",
   "metadata": {},
   "source": [
    "___\n",
    "\n",
    "### Grammer Definition\n",
    "\n",
    "Literals and Valid Symbols that are possible in the ML-SQL language"
   ]
  },
  {
   "cell_type": "code",
   "execution_count": 8,
   "metadata": {
    "collapsed": false
   },
   "outputs": [
    {
     "data": {
      "text/plain": [
       "'abcdefghijklmnopqrstuvwxyzABCDEFGHIJKLMNOPQRSTUVWXYZ!\"#$%&\\'()*+,-./:;<=>?@[\\\\]^_`{|}~0123456789'"
      ]
     },
     "execution_count": 8,
     "metadata": {},
     "output_type": "execute_result"
    }
   ],
   "source": [
    "letters = string.ascii_letters\n",
    "punctuation = string.punctuation\n",
    "numbers = string.digits\n",
    "whitespace = string.whitespace\n",
    "\n",
    "#combinations\n",
    "everything = letters + punctuation + numbers\n",
    "everythingWOQuotes = everything.replace(\"\\\"\", \"\").replace(\"'\", \"\")\n",
    "\n",
    "#Booleans\n",
    "bools = Literal(\"True\") + Literal(\"False\")\n",
    "\n",
    "#Parenthesis and Quotes\n",
    "openParen = Literal(\"(\").suppress()\n",
    "closeParen = Literal(\")\").suppress()\n",
    "Quote = Literal('\"').suppress()\n",
    "\n",
    "#includes every combination except whitespace\n",
    "everything"
   ]
  },
  {
   "cell_type": "markdown",
   "metadata": {},
   "source": [
    "___\n",
    "\n",
    "### READ\n",
    "\n",
    "Read files into memory by speicifying the file name, header presence, and the separator. \n",
    "\n",
    "Issues:\n",
    "- Read cannot handle spaces in file names\n",
    "- Handling names of columns"
   ]
  },
  {
   "cell_type": "code",
   "execution_count": 9,
   "metadata": {
    "collapsed": false
   },
   "outputs": [],
   "source": [
    "filename = Word(everything).setResultsName(\"filename\")\n",
    "\n",
    "#define so that there can be multiple verisions of READ\n",
    "readKeyword = oneOf([\"Read\", \"READ\"]).suppress()\n",
    "\n",
    "#Define Read Optionals\n",
    "#header\n",
    "headerLiteral = (Literal(\"header\") + Literal(\"=\")).suppress()\n",
    "header = Optional(headerLiteral + Or(bools).setResultsName(\"header\"), default = \"False\" )\n",
    "\n",
    "#separator\n",
    "separatorLiteral = (Or([Literal(\"sep\"), Literal(\"separator\")]) + Literal(\"=\")).suppress()\n",
    "definesep = Quote + Word(everythingWOQuotes + whitespace).setResultsName(\"sep\") + Quote\n",
    "separator = Optional(separatorLiteral + definesep, default = \",\")\n",
    "\n",
    "#Compose Read Optionals\n",
    "readOptions = Optional(openParen + separator + header + closeParen)\n",
    "\n",
    "read = readKeyword + filename + readOptions"
   ]
  },
  {
   "cell_type": "code",
   "execution_count": 12,
   "metadata": {
    "collapsed": false
   },
   "outputs": [
    {
     "name": "stdout",
     "output_type": "stream",
     "text": [
      "False\n",
      ",\n"
     ]
    },
    {
     "ename": "OSError",
     "evalue": "File b'/home/ubuntu/notebooks/ML-SQL/Classification/iris.data' does not exist",
     "output_type": "error",
     "traceback": [
      "\u001b[1;31m---------------------------------------------------------------------------\u001b[0m",
      "\u001b[1;31mOSError\u001b[0m                                   Traceback (most recent call last)",
      "\u001b[1;32m<ipython-input-12-5048a860127c>\u001b[0m in \u001b[0;36m<module>\u001b[1;34m()\u001b[0m\n\u001b[0;32m     19\u001b[0m \u001b[1;33m\u001b[0m\u001b[0m\n\u001b[0;32m     20\u001b[0m \u001b[1;31m#read parameters from parsed statement and read the file\u001b[0m\u001b[1;33m\u001b[0m\u001b[1;33m\u001b[0m\u001b[0m\n\u001b[1;32m---> 21\u001b[1;33m \u001b[0mf\u001b[0m \u001b[1;33m=\u001b[0m \u001b[0mpd\u001b[0m\u001b[1;33m.\u001b[0m\u001b[0mread_csv\u001b[0m\u001b[1;33m(\u001b[0m\u001b[0mfilename\u001b[0m\u001b[1;33m,\u001b[0m \u001b[0msep\u001b[0m \u001b[1;33m=\u001b[0m \u001b[0msep\u001b[0m\u001b[1;33m,\u001b[0m \u001b[0mheader\u001b[0m \u001b[1;33m=\u001b[0m \u001b[0mstr_to_bool\u001b[0m\u001b[1;33m(\u001b[0m\u001b[0mheader\u001b[0m\u001b[1;33m)\u001b[0m\u001b[1;33m)\u001b[0m\u001b[1;33m\u001b[0m\u001b[0m\n\u001b[0m\u001b[0;32m     22\u001b[0m \u001b[0mf\u001b[0m\u001b[1;33m.\u001b[0m\u001b[0mhead\u001b[0m\u001b[1;33m(\u001b[0m\u001b[1;33m)\u001b[0m\u001b[1;33m\u001b[0m\u001b[0m\n",
      "\u001b[1;32m/home/ubuntu/anaconda3/lib/python3.5/site-packages/pandas/io/parsers.py\u001b[0m in \u001b[0;36mparser_f\u001b[1;34m(filepath_or_buffer, sep, delimiter, header, names, index_col, usecols, squeeze, prefix, mangle_dupe_cols, dtype, engine, converters, true_values, false_values, skipinitialspace, skiprows, skipfooter, nrows, na_values, keep_default_na, na_filter, verbose, skip_blank_lines, parse_dates, infer_datetime_format, keep_date_col, date_parser, dayfirst, iterator, chunksize, compression, thousands, decimal, lineterminator, quotechar, quoting, escapechar, comment, encoding, dialect, tupleize_cols, error_bad_lines, warn_bad_lines, skip_footer, doublequote, delim_whitespace, as_recarray, compact_ints, use_unsigned, low_memory, buffer_lines, memory_map, float_precision)\u001b[0m\n\u001b[0;32m    560\u001b[0m                     skip_blank_lines=skip_blank_lines)\n\u001b[0;32m    561\u001b[0m \u001b[1;33m\u001b[0m\u001b[0m\n\u001b[1;32m--> 562\u001b[1;33m         \u001b[1;32mreturn\u001b[0m \u001b[0m_read\u001b[0m\u001b[1;33m(\u001b[0m\u001b[0mfilepath_or_buffer\u001b[0m\u001b[1;33m,\u001b[0m \u001b[0mkwds\u001b[0m\u001b[1;33m)\u001b[0m\u001b[1;33m\u001b[0m\u001b[0m\n\u001b[0m\u001b[0;32m    563\u001b[0m \u001b[1;33m\u001b[0m\u001b[0m\n\u001b[0;32m    564\u001b[0m     \u001b[0mparser_f\u001b[0m\u001b[1;33m.\u001b[0m\u001b[0m__name__\u001b[0m \u001b[1;33m=\u001b[0m \u001b[0mname\u001b[0m\u001b[1;33m\u001b[0m\u001b[0m\n",
      "\u001b[1;32m/home/ubuntu/anaconda3/lib/python3.5/site-packages/pandas/io/parsers.py\u001b[0m in \u001b[0;36m_read\u001b[1;34m(filepath_or_buffer, kwds)\u001b[0m\n\u001b[0;32m    313\u001b[0m \u001b[1;33m\u001b[0m\u001b[0m\n\u001b[0;32m    314\u001b[0m     \u001b[1;31m# Create the parser.\u001b[0m\u001b[1;33m\u001b[0m\u001b[1;33m\u001b[0m\u001b[0m\n\u001b[1;32m--> 315\u001b[1;33m     \u001b[0mparser\u001b[0m \u001b[1;33m=\u001b[0m \u001b[0mTextFileReader\u001b[0m\u001b[1;33m(\u001b[0m\u001b[0mfilepath_or_buffer\u001b[0m\u001b[1;33m,\u001b[0m \u001b[1;33m**\u001b[0m\u001b[0mkwds\u001b[0m\u001b[1;33m)\u001b[0m\u001b[1;33m\u001b[0m\u001b[0m\n\u001b[0m\u001b[0;32m    316\u001b[0m \u001b[1;33m\u001b[0m\u001b[0m\n\u001b[0;32m    317\u001b[0m     \u001b[1;32mif\u001b[0m \u001b[1;33m(\u001b[0m\u001b[0mnrows\u001b[0m \u001b[1;32mis\u001b[0m \u001b[1;32mnot\u001b[0m \u001b[1;32mNone\u001b[0m\u001b[1;33m)\u001b[0m \u001b[1;32mand\u001b[0m \u001b[1;33m(\u001b[0m\u001b[0mchunksize\u001b[0m \u001b[1;32mis\u001b[0m \u001b[1;32mnot\u001b[0m \u001b[1;32mNone\u001b[0m\u001b[1;33m)\u001b[0m\u001b[1;33m:\u001b[0m\u001b[1;33m\u001b[0m\u001b[0m\n",
      "\u001b[1;32m/home/ubuntu/anaconda3/lib/python3.5/site-packages/pandas/io/parsers.py\u001b[0m in \u001b[0;36m__init__\u001b[1;34m(self, f, engine, **kwds)\u001b[0m\n\u001b[0;32m    643\u001b[0m             \u001b[0mself\u001b[0m\u001b[1;33m.\u001b[0m\u001b[0moptions\u001b[0m\u001b[1;33m[\u001b[0m\u001b[1;34m'has_index_names'\u001b[0m\u001b[1;33m]\u001b[0m \u001b[1;33m=\u001b[0m \u001b[0mkwds\u001b[0m\u001b[1;33m[\u001b[0m\u001b[1;34m'has_index_names'\u001b[0m\u001b[1;33m]\u001b[0m\u001b[1;33m\u001b[0m\u001b[0m\n\u001b[0;32m    644\u001b[0m \u001b[1;33m\u001b[0m\u001b[0m\n\u001b[1;32m--> 645\u001b[1;33m         \u001b[0mself\u001b[0m\u001b[1;33m.\u001b[0m\u001b[0m_make_engine\u001b[0m\u001b[1;33m(\u001b[0m\u001b[0mself\u001b[0m\u001b[1;33m.\u001b[0m\u001b[0mengine\u001b[0m\u001b[1;33m)\u001b[0m\u001b[1;33m\u001b[0m\u001b[0m\n\u001b[0m\u001b[0;32m    646\u001b[0m \u001b[1;33m\u001b[0m\u001b[0m\n\u001b[0;32m    647\u001b[0m     \u001b[1;32mdef\u001b[0m \u001b[0mclose\u001b[0m\u001b[1;33m(\u001b[0m\u001b[0mself\u001b[0m\u001b[1;33m)\u001b[0m\u001b[1;33m:\u001b[0m\u001b[1;33m\u001b[0m\u001b[0m\n",
      "\u001b[1;32m/home/ubuntu/anaconda3/lib/python3.5/site-packages/pandas/io/parsers.py\u001b[0m in \u001b[0;36m_make_engine\u001b[1;34m(self, engine)\u001b[0m\n\u001b[0;32m    797\u001b[0m     \u001b[1;32mdef\u001b[0m \u001b[0m_make_engine\u001b[0m\u001b[1;33m(\u001b[0m\u001b[0mself\u001b[0m\u001b[1;33m,\u001b[0m \u001b[0mengine\u001b[0m\u001b[1;33m=\u001b[0m\u001b[1;34m'c'\u001b[0m\u001b[1;33m)\u001b[0m\u001b[1;33m:\u001b[0m\u001b[1;33m\u001b[0m\u001b[0m\n\u001b[0;32m    798\u001b[0m         \u001b[1;32mif\u001b[0m \u001b[0mengine\u001b[0m \u001b[1;33m==\u001b[0m \u001b[1;34m'c'\u001b[0m\u001b[1;33m:\u001b[0m\u001b[1;33m\u001b[0m\u001b[0m\n\u001b[1;32m--> 799\u001b[1;33m             \u001b[0mself\u001b[0m\u001b[1;33m.\u001b[0m\u001b[0m_engine\u001b[0m \u001b[1;33m=\u001b[0m \u001b[0mCParserWrapper\u001b[0m\u001b[1;33m(\u001b[0m\u001b[0mself\u001b[0m\u001b[1;33m.\u001b[0m\u001b[0mf\u001b[0m\u001b[1;33m,\u001b[0m \u001b[1;33m**\u001b[0m\u001b[0mself\u001b[0m\u001b[1;33m.\u001b[0m\u001b[0moptions\u001b[0m\u001b[1;33m)\u001b[0m\u001b[1;33m\u001b[0m\u001b[0m\n\u001b[0m\u001b[0;32m    800\u001b[0m         \u001b[1;32melse\u001b[0m\u001b[1;33m:\u001b[0m\u001b[1;33m\u001b[0m\u001b[0m\n\u001b[0;32m    801\u001b[0m             \u001b[1;32mif\u001b[0m \u001b[0mengine\u001b[0m \u001b[1;33m==\u001b[0m \u001b[1;34m'python'\u001b[0m\u001b[1;33m:\u001b[0m\u001b[1;33m\u001b[0m\u001b[0m\n",
      "\u001b[1;32m/home/ubuntu/anaconda3/lib/python3.5/site-packages/pandas/io/parsers.py\u001b[0m in \u001b[0;36m__init__\u001b[1;34m(self, src, **kwds)\u001b[0m\n\u001b[0;32m   1211\u001b[0m         \u001b[0mkwds\u001b[0m\u001b[1;33m[\u001b[0m\u001b[1;34m'allow_leading_cols'\u001b[0m\u001b[1;33m]\u001b[0m \u001b[1;33m=\u001b[0m \u001b[0mself\u001b[0m\u001b[1;33m.\u001b[0m\u001b[0mindex_col\u001b[0m \u001b[1;32mis\u001b[0m \u001b[1;32mnot\u001b[0m \u001b[1;32mFalse\u001b[0m\u001b[1;33m\u001b[0m\u001b[0m\n\u001b[0;32m   1212\u001b[0m \u001b[1;33m\u001b[0m\u001b[0m\n\u001b[1;32m-> 1213\u001b[1;33m         \u001b[0mself\u001b[0m\u001b[1;33m.\u001b[0m\u001b[0m_reader\u001b[0m \u001b[1;33m=\u001b[0m \u001b[0m_parser\u001b[0m\u001b[1;33m.\u001b[0m\u001b[0mTextReader\u001b[0m\u001b[1;33m(\u001b[0m\u001b[0msrc\u001b[0m\u001b[1;33m,\u001b[0m \u001b[1;33m**\u001b[0m\u001b[0mkwds\u001b[0m\u001b[1;33m)\u001b[0m\u001b[1;33m\u001b[0m\u001b[0m\n\u001b[0m\u001b[0;32m   1214\u001b[0m \u001b[1;33m\u001b[0m\u001b[0m\n\u001b[0;32m   1215\u001b[0m         \u001b[1;31m# XXX\u001b[0m\u001b[1;33m\u001b[0m\u001b[1;33m\u001b[0m\u001b[0m\n",
      "\u001b[1;32mpandas/parser.pyx\u001b[0m in \u001b[0;36mpandas.parser.TextReader.__cinit__ (pandas/parser.c:3427)\u001b[1;34m()\u001b[0m\n",
      "\u001b[1;32mpandas/parser.pyx\u001b[0m in \u001b[0;36mpandas.parser.TextReader._setup_parser_source (pandas/parser.c:6861)\u001b[1;34m()\u001b[0m\n",
      "\u001b[1;31mOSError\u001b[0m: File b'/home/ubuntu/notebooks/ML-SQL/Classification/iris.data' does not exist"
     ]
    }
   ],
   "source": [
    "readTest = 'READ /home/ubuntu/notebooks/ML-SQL/Classification/iris.data (sep=\",\" header=False)'\n",
    "\n",
    "readTestResult = read.parseString(readTest)\n",
    "\n",
    "filename = readTestResult.filename\n",
    "header = readTestResult.header\n",
    "print(header)\n",
    "sep = readTestResult.sep\n",
    "print(sep)\n",
    "\n",
    "#Function to lower a string value of \"True\" or \"False\" to an actual python boolean value\n",
    "def str_to_bool(s):\n",
    "    if s == 'True':\n",
    "         return True\n",
    "    elif s == 'False':\n",
    "         return None\n",
    "    else:\n",
    "         raise ValueError (\"Cannot lower value \" + s + \" to a boolean value\")\n",
    "            \n",
    "#read parameters from parsed statement and read the file\n",
    "f = pd.read_csv(filename, sep = sep, header = str_to_bool(header))\n",
    "f.head()"
   ]
  },
  {
   "cell_type": "code",
   "execution_count": null,
   "metadata": {
    "collapsed": true
   },
   "outputs": [],
   "source": []
  },
  {
   "cell_type": "markdown",
   "metadata": {},
   "source": [
    "___\n",
    "\n",
    "### SPLIT\n",
    "\n",
    "Splits dataset into training, testing, and validation sets. Give 3 non-negative decimals that sum to 1 to specify these quantities."
   ]
  },
  {
   "cell_type": "code",
   "execution_count": 7,
   "metadata": {
    "collapsed": true
   },
   "outputs": [],
   "source": [
    "#define so that there can be multiple verisions of Split\n",
    "splitKeyword = oneOf([\"Split\", \"SPLIT\"]).suppress()\n",
    "\n",
    "#Phrases used to organize splits\n",
    "trainPhrase = (Literal(\"train\") + Literal(\"=\")).suppress()\n",
    "testPhrase = (Literal(\"test\") + Literal(\"=\")).suppress()\n",
    "valPhrase = (Literal(\"validation\") + Literal(\"=\")).suppress()\n",
    "\n",
    "#train, test, validation split values\n",
    "trainS = Combine(Literal(\".\") + Word(numbers)).setResultsName(\"train_split\")\n",
    "testS = Combine(Literal(\".\") + Word(numbers)).setResultsName(\"test_split\")\n",
    "valS = Combine(Literal(\".\") + Word(numbers)).setResultsName(\"validation_split\")\n",
    "\n",
    "#Compose phrases and values together \n",
    "training = trainPhrase + trainS\n",
    "testing = testPhrase + testS\n",
    "val = valPhrase + valS\n",
    "\n",
    "#Creating Optional Split phrase\n",
    "ocomma = Optional(\",\").suppress()\n",
    "split = Optional(splitKeyword + openParen + training + ocomma + testing + ocomma + val + closeParen)\n",
    "\n",
    "#Combining READ and SPLIT keywords into one clause for combined use\n",
    "read_split = read + split"
   ]
  },
  {
   "cell_type": "code",
   "execution_count": 8,
   "metadata": {
    "collapsed": false
   },
   "outputs": [
    {
     "name": "stdout",
     "output_type": "stream",
     "text": [
      "['.8', '.2', '.0']\n"
     ]
    }
   ],
   "source": [
    "#Split test\n",
    "splitTest = \"SPLIT (train = .8, test = .2, validation = .0)\"\n",
    "\n",
    "print(split.parseString(splitTest))"
   ]
  },
  {
   "cell_type": "code",
   "execution_count": 9,
   "metadata": {
    "collapsed": false
   },
   "outputs": [
    {
     "name": "stdout",
     "output_type": "stream",
     "text": [
      "['/home/ubuntu/notebooks/ML-SQL/Classification/iris.data', ',', 'False', '.8', '.2', '.0']\n"
     ]
    }
   ],
   "source": [
    "#Read with Split test\n",
    "read_split_test = readTest + \" \"+ splitTest\n",
    "\n",
    "print(read_split.parseString(read_split_test))"
   ]
  },
  {
   "cell_type": "markdown",
   "metadata": {},
   "source": [
    "___\n",
    "\n",
    "### Classify\n",
    "\n",
    "Define an algorithm to perform a classification task on \n",
    "\n",
    "Supported classifier: SVM, Logistic Regression"
   ]
  },
  {
   "cell_type": "code",
   "execution_count": 10,
   "metadata": {
    "collapsed": false
   },
   "outputs": [],
   "source": [
    "#Algorithm Definitions\n",
    "algoPhrase = (Literal (\"algorithm\") + Literal(\"=\")).suppress()\n",
    "svmPhrase = oneOf([\"svm\", \"SVM\"])\n",
    "logPhrase = oneOf([\"logistic\", \"Logistic\", \"LOGISTIC\"])\n",
    "\n",
    "#Options for classifiers\n",
    "\n",
    "#Compositions\n",
    "svm = svmPhrase + Optional(openParen + closeParen)\n",
    "log = logPhrase + Optional(openParen + closeParen)\n",
    "algo = algoPhrase + MatchFirst([svm, log]).setResultsName(\"algorithm\")"
   ]
  },
  {
   "cell_type": "code",
   "execution_count": 11,
   "metadata": {
    "collapsed": false
   },
   "outputs": [],
   "source": [
    "#define so that there can be multiple verisions of Classify\n",
    "classifyKeyword = oneOf([\"Classify\", \"CLASSIFY\"]).suppress()\n",
    "\n",
    "#Phrases to organize predictor and label column numbers\n",
    "predPhrase = (Literal(\"predictors\") + Literal(\"=\")).suppress()\n",
    "labelPhrase = (Literal(\"label\") + Literal(\"=\")).suppress()\n",
    "\n",
    "#define predictor and label column numbers\n",
    "predictorsDef = OneOrMore(Word(numbers) + ocomma).setResultsName(\"predictors\")\n",
    "labelDef = Word(numbers).setResultsName(\"label\")\n",
    "\n",
    "#combine phrases with found column numbers\n",
    "preds = predPhrase + openParen + predictorsDef + closeParen\n",
    "labels = labelPhrase + labelDef\n",
    "\n",
    "classify = Optional(classifyKeyword + openParen + preds + ocomma + labels + ocomma + algo + closeParen)"
   ]
  },
  {
   "cell_type": "code",
   "execution_count": 12,
   "metadata": {
    "collapsed": false
   },
   "outputs": [
    {
     "name": "stdout",
     "output_type": "stream",
     "text": [
      "['1', '2', '3', '4', '5', 'SVM']\n"
     ]
    }
   ],
   "source": [
    "classifyTest = \"CLASSIFY (predictors = (1,2,3,4), label = 5, algorithm = SVM)\"\n",
    "\n",
    "print(classify.parseString(classifyTest))"
   ]
  },
  {
   "cell_type": "markdown",
   "metadata": {},
   "source": [
    "___\n",
    "\n",
    "### Regression\n",
    "\n",
    "Define an algorithm to perform a classification task on \n",
    "\n",
    "Supported classifier: Simple Linear Regression, Lasso, Ridge"
   ]
  },
  {
   "cell_type": "code",
   "execution_count": 13,
   "metadata": {
    "collapsed": false
   },
   "outputs": [],
   "source": [
    "#Algorithm Definitions\n",
    "simplePhrase = oneOf([\"simple\", \"SIMPLE\", \"Simple\"])\n",
    "lassoPhrase = oneOf([\"lasso\", \"Lasso\", \"LASSO\"])\n",
    "ridgePhrase = oneOf([\"ridge\", \"Ridge\", \"RIDGE\"])\n",
    "\n",
    "#Options for classifiers\n",
    "\n",
    "#Compositions\n",
    "simple = simplePhrase + Optional(openParen + closeParen)\n",
    "lasso = lassoPhrase + Optional(openParen + closeParen)\n",
    "ridge = ridgePhrase + Optional(openParen + closeParen)\n",
    "algo = algoPhrase + MatchFirst([simple, lasso, ridge]).setResultsName(\"algorithm\")"
   ]
  },
  {
   "cell_type": "code",
   "execution_count": 18,
   "metadata": {
    "collapsed": false
   },
   "outputs": [],
   "source": [
    "#define so that there can be multiple verisions of Regression\n",
    "regressionKeyword = oneOf([\"Regression\", \"REGRESSION\"]).suppress()\n",
    "\n",
    "#Phrases to organize predictor and label column numbers\n",
    "predPhrase = (Literal(\"predictors\") + Literal(\"=\")).suppress()\n",
    "labelPhrase = (Literal(\"label\") + Literal(\"=\")).suppress()\n",
    "\n",
    "#define predictor and label column numbers\n",
    "predictorsDef = OneOrMore(Word(numbers) + ocomma).setResultsName(\"predictors\")\n",
    "labelDef = Word(numbers).setResultsName(\"label\")\n",
    "\n",
    "#combine phrases with found column numbers\n",
    "preds = predPhrase + openParen + predictorsDef + closeParen\n",
    "labels = labelPhrase + labelDef\n",
    "\n",
    "regression = Optional(regressionKeyword + openParen + preds + ocomma + labels + ocomma + algo + closeParen)"
   ]
  },
  {
   "cell_type": "code",
   "execution_count": 20,
   "metadata": {
    "collapsed": false
   },
   "outputs": [
    {
     "name": "stdout",
     "output_type": "stream",
     "text": [
      "['1', '2', '3', '4', '5', 'simple']\n"
     ]
    }
   ],
   "source": [
    "regressionTest = \"REGRESSION (predictors = (1,2,3,4), label = 5, algorithm = simple)\"\n",
    "\n",
    "print(regression.parseString(regressionTest))"
   ]
  },
  {
   "cell_type": "markdown",
   "metadata": {},
   "source": [
    "___\n",
    "\n",
    "## Examples\n",
    "\n",
    "I include the 3 words: READ, SPLIT, CLASSIFY and show a basic example of a classification task on the Iris-data set"
   ]
  },
  {
   "cell_type": "code",
   "execution_count": 25,
   "metadata": {
    "collapsed": false
   },
   "outputs": [
    {
     "name": "stdout",
     "output_type": "stream",
     "text": [
      "READ /home/ubuntu/notebooks/ML-SQL/Classification/iris.data (sep=\",\" header=False) SPLIT (train = .8, test = .2, validation = .0) CLASSIFY (predictors = (1,2,3,4), label = 5, algorithm = SVM)\n"
     ]
    }
   ],
   "source": [
    "read_split_classify = read + split + classify\n",
    "read_split_classify_regression = read + split + classify + regression\n",
    "\n",
    "query1 = readTest + \" \" + splitTest + \" \" + classifyTest\n",
    "\n",
    "print(query1)"
   ]
  },
  {
   "cell_type": "code",
   "execution_count": 26,
   "metadata": {
    "collapsed": false
   },
   "outputs": [],
   "source": [
    "#define a pipeline to accomplish all of the data tasks we envision\n",
    "result1 = read_split_classify.parseString(query1)\n",
    "\n",
    "#Extract relevant features from the query\n",
    "filename1 = result1.filename\n",
    "header1 = result1.header\n",
    "sep1 = result1.sep\n",
    "train1 = result1.train_split\n",
    "test1 = result1.test_split\n",
    "predictors1 = result1.predictors\n",
    "label1 = result1.label\n",
    "algo1 = str(result1.algorithm)"
   ]
  },
  {
   "cell_type": "code",
   "execution_count": 252,
   "metadata": {
    "collapsed": false
   },
   "outputs": [
    {
     "data": {
      "text/plain": [
       "0.93333333333333335"
      ]
     },
     "execution_count": 252,
     "metadata": {},
     "output_type": "execute_result"
    }
   ],
   "source": [
    "#Preform classification dataflow\n",
    "\n",
    "#read file \n",
    "file1 = pd.read_csv(filename1, header = str_to_bool(header1), sep = sep1)\n",
    "\n",
    "#predictors and labels\n",
    "pred_cols = map(int, predictors1)\n",
    "pred_cols = map(lambda x: x - 1, pred_cols)\n",
    "label_col = int(label1) - 1\n",
    "\n",
    "X = file1.ix[:,pred_cols]\n",
    "y = file1.ix[:,label_col]\n",
    "\n",
    "#Split data into training and testing sets\n",
    "X_train, X_test, y_train, y_test = train_test_split(X, y, train_size=float(train1), test_size=float(test1))\n",
    "\n",
    "#choose classification algorithm\n",
    "if algo1.lower() == \"svm\":\n",
    "    clf = svm.SVC()\n",
    "elif algo.lower() == \"logistic\":\n",
    "    clf = LogisticRegression()\n",
    "\n",
    "#Train model\n",
    "clf.fit(X_train, y_train)\n",
    "\n",
    "#Performance on test data\n",
    "clf.score(X_test, y_test)"
   ]
  }
 ],
 "metadata": {
  "kernelspec": {
   "display_name": "Python 3",
   "language": "python",
   "name": "python3"
  },
  "language_info": {
   "codemirror_mode": {
    "name": "ipython",
    "version": 3
   },
   "file_extension": ".py",
   "mimetype": "text/x-python",
   "name": "python",
   "nbconvert_exporter": "python",
   "pygments_lexer": "ipython3",
   "version": "3.5.1"
  }
 },
 "nbformat": 4,
 "nbformat_minor": 0
}
