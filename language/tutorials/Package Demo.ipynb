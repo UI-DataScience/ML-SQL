{
 "cells": [
  {
   "cell_type": "markdown",
   "metadata": {},
   "source": [
    "# ML-SQL package\n",
    "\n",
    "## By: Neeraj Asthana (under Professor Robert Brunner)\n",
    "\n",
    "### Summer 2016 UIUC\n",
    "\n",
    "Created a python package named **mlsql** that defines the parser and relevant functions for the ML-SQL language.\n",
    "\n",
    "The two main functions in this package are **mlsql.repl()** and **mlsql.execute**.\n",
    "\n",
    "1. The **repl()** function creates a sql like shell to continuously run ML-SQL commands.\n",
    "\n",
    "2. The **execute()** function can be imported by other modules for executing ML-SQL commands that are defined by strings. \n",
    "\n",
    "The current keywords and functionalities are:\n",
    "\n",
    "- READ *file* (with options to specify header existence and separtor)\n",
    "- SPLIT (into training, testing, and validation sets)\n",
    "- CLASSIFY *predictors*, *labels* (with algorithms for SVM and Logistic Regression) [hyperparameters can be specified as well]\n",
    "- REGRESSION *predictors*, *labels* (with algorithms for Simple Linear Regression, Lasso, and Ridge)"
   ]
  },
  {
   "cell_type": "code",
   "execution_count": 1,
   "metadata": {
    "collapsed": false
   },
   "outputs": [],
   "source": [
    "from mlsql import execute"
   ]
  },
  {
   "cell_type": "code",
   "execution_count": 2,
   "metadata": {
    "collapsed": false
   },
   "outputs": [
    {
     "name": "stdout",
     "output_type": "stream",
     "text": [
      "['/home/ubuntu/notebooks/ML-SQL/dataflows/Classification/iris.data', ',', 'False']\n",
      "     0    1    2    3            4\n",
      "0  5.1  3.5  1.4  0.2  Iris-setosa\n",
      "1  4.9  3.0  1.4  0.2  Iris-setosa\n",
      "2  4.7  3.2  1.3  0.2  Iris-setosa\n",
      "3  4.6  3.1  1.5  0.2  Iris-setosa\n",
      "4  5.0  3.6  1.4  0.2  Iris-setosa\n",
      "filename: /home/ubuntu/notebooks/ML-SQL/dataflows/Classification/iris.data\n",
      "header: False\n",
      "separator: ,\n",
      "train size: \n",
      "test size: \n",
      "predictors: \n",
      "label: \n",
      "algorithm: \n",
      "\n"
     ]
    }
   ],
   "source": [
    "#Read\n",
    "query1 = 'READ /home/ubuntu/notebooks/ML-SQL/dataflows/Classification/iris.data (sep=\",\" header=False)'\n",
    "\n",
    "execute(query1)"
   ]
  },
  {
   "cell_type": "code",
   "execution_count": 3,
   "metadata": {
    "collapsed": false
   },
   "outputs": [
    {
     "name": "stdout",
     "output_type": "stream",
     "text": [
      "['/home/ubuntu/notebooks/ML-SQL/dataflows/Classification/iris.data', ',', 'False', '.8', '.2', '.0']\n",
      "     0    1    2    3            4\n",
      "0  5.1  3.5  1.4  0.2  Iris-setosa\n",
      "1  4.9  3.0  1.4  0.2  Iris-setosa\n",
      "2  4.7  3.2  1.3  0.2  Iris-setosa\n",
      "3  4.6  3.1  1.5  0.2  Iris-setosa\n",
      "4  5.0  3.6  1.4  0.2  Iris-setosa\n",
      "filename: /home/ubuntu/notebooks/ML-SQL/dataflows/Classification/iris.data\n",
      "header: False\n",
      "separator: ,\n",
      "train size: .8\n",
      "test size: .2\n",
      "predictors: \n",
      "label: \n",
      "algorithm: \n",
      "\n"
     ]
    }
   ],
   "source": [
    "#Read and Split\n",
    "query2 = 'READ /home/ubuntu/notebooks/ML-SQL/dataflows/Classification/iris.data (sep=\",\" header=False) \\\n",
    "            SPLIT (train = .8, test = .2, validation = .0)'\n",
    "\n",
    "execute(query2)"
   ]
  },
  {
   "cell_type": "code",
   "execution_count": 4,
   "metadata": {
    "collapsed": false
   },
   "outputs": [
    {
     "name": "stdout",
     "output_type": "stream",
     "text": [
      "['/home/ubuntu/notebooks/ML-SQL/dataflows/Classification/iris.data', ',', 'False', '.8', '.2', '.0', '1', '2', '3', '4', '5', 'SVM']\n",
      "     0    1    2    3            4\n",
      "0  5.1  3.5  1.4  0.2  Iris-setosa\n",
      "1  4.9  3.0  1.4  0.2  Iris-setosa\n",
      "2  4.7  3.2  1.3  0.2  Iris-setosa\n",
      "3  4.6  3.1  1.5  0.2  Iris-setosa\n",
      "4  5.0  3.6  1.4  0.2  Iris-setosa\n",
      "filename: /home/ubuntu/notebooks/ML-SQL/dataflows/Classification/iris.data\n",
      "header: False\n",
      "separator: ,\n",
      "train size: .8\n",
      "test size: .2\n",
      "predictors: ['1', '2', '3', '4']\n",
      "label: 5\n",
      "algorithm: SVM\n",
      "\n"
     ]
    }
   ],
   "source": [
    "#Read Split and Classify\n",
    "query3 = 'READ /home/ubuntu/notebooks/ML-SQL/dataflows/Classification/iris.data (sep=\",\" header=False) \\\n",
    "            SPLIT (train = .8, test = .2, validation = .0) \\\n",
    "            CLASSIFY (predictors = (1,2,3,4), label = 5, algorithm = SVM)'\n",
    "\n",
    "execute(query3)"
   ]
  },
  {
   "cell_type": "code",
   "execution_count": 5,
   "metadata": {
    "collapsed": false
   },
   "outputs": [
    {
     "name": "stdout",
     "output_type": "stream",
     "text": [
      "['/home/ubuntu/notebooks/ML-SQL/dataflows/Classification/iris.data', ',', 'False', '.8', '.2', '.0', '1', '2', '4', '3', 'LASSO']\n",
      "     0    1    2    3            4\n",
      "0  5.1  3.5  1.4  0.2  Iris-setosa\n",
      "1  4.9  3.0  1.4  0.2  Iris-setosa\n",
      "2  4.7  3.2  1.3  0.2  Iris-setosa\n",
      "3  4.6  3.1  1.5  0.2  Iris-setosa\n",
      "4  5.0  3.6  1.4  0.2  Iris-setosa\n",
      "filename: /home/ubuntu/notebooks/ML-SQL/dataflows/Classification/iris.data\n",
      "header: False\n",
      "separator: ,\n",
      "train size: .8\n",
      "test size: .2\n",
      "predictors: ['1', '2', '4']\n",
      "label: 3\n",
      "algorithm: LASSO\n",
      "\n"
     ]
    }
   ],
   "source": [
    "#Read Split and Regression\n",
    "query4 = 'READ /home/ubuntu/notebooks/ML-SQL/dataflows/Classification/iris.data (sep=\",\" header=False) \\\n",
    "            SPLIT (train = .8, test = .2, validation = .0) \\\n",
    "            REGRESSION (predictors = (1,2,4), label = 3, algorithm = LASSO)'\n",
    "\n",
    "execute(query4)"
   ]
  }
 ],
 "metadata": {
  "kernelspec": {
   "display_name": "Python 3",
   "language": "python",
   "name": "python3"
  },
  "language_info": {
   "codemirror_mode": {
    "name": "ipython",
    "version": 3
   },
   "file_extension": ".py",
   "mimetype": "text/x-python",
   "name": "python",
   "nbconvert_exporter": "python",
   "pygments_lexer": "ipython3",
   "version": "3.5.1"
  }
 },
 "nbformat": 4,
 "nbformat_minor": 0
}
