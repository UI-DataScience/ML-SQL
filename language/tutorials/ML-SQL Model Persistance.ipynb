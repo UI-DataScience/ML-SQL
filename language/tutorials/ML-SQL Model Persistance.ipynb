{
 "cells": [
  {
   "cell_type": "markdown",
   "metadata": {},
   "source": [
    "# ML-SQL Updates and Model Persistance\n",
    "\n",
    "## By: Neeraj Asthana (under Professor Robert Brunner)\n",
    "\n",
    "### Summer 2016 UIUC\n",
    "\n",
    "___\n",
    "\n",
    "## Updates\n",
    "\n",
    "1. Model Persistance Exploration (Pickling, joblib, json formatted file)\n",
    "1. Created ML-SQL 3 step process\n",
    "1. Added SQL like commenting with \"--\" operator\n",
    "1. Added REPLACE keyword\n",
    "1. General Bug Fixes"
   ]
  },
  {
   "cell_type": "code",
   "execution_count": 1,
   "metadata": {
    "collapsed": false
   },
   "outputs": [],
   "source": [
    "from mlsql import repl, execute"
   ]
  },
  {
   "cell_type": "markdown",
   "metadata": {},
   "source": [
    "## Model Persistance\n",
    "\n",
    "We must be able to save different models that are trained so that we can transfer models between different users/machines without having to retrain the model completely. \n",
    "\n",
    "Options:\n",
    "1. Pickling\n",
    "1. Joblib\n",
    "1. Saving Coefficients and important configurations to a file (.mlsql extension) in JSON format\n",
    "\n",
    "### Pickling\n",
    "\n",
    "Idea: Use the \"pickle.dumps()\" and \"pickle.loads()\" functions from python's pickle module to hold data into a dictionary like structure. \n",
    "\n",
    "Benefits:\n",
    "- Can easily save and load already learned modules from memory\n",
    "- Minimal Coding involved\n",
    "- all model object structures remain in place\n",
    "\n",
    "Problems:\n",
    "- Only generalizes to Python (no immediate comparisons in R, Java, Spark, etc.)\n",
    "- Cannot transfer trained models to other people or machines (not a file)\n",
    "\n",
    "### JobLib\n",
    "\n",
    "Idea: Use the \"joblib.dump()\" and \"joblib.load()\" functions from python's joblib module to hold data in a file. This is similar to pickling but it saves it to a file instead. \n",
    "\n",
    "Benefits:\n",
    "- Can easily save and load already learned modules from memory\n",
    "- Minimal Coding involved\n",
    "- all model object structures remain in place\n",
    "- Can transfer trained models to other people or machines (saves to a file)\n",
    "\n",
    "Problems:\n",
    "- Only generalizes to Python (no immediate comparisons in R, Java, Spark, etc.)\n",
    "- creates many small, unneccessary files (SVM below creates 12 different small files)\n",
    "\n",
    "Demo:"
   ]
  },
  {
   "cell_type": "code",
   "execution_count": 2,
   "metadata": {
    "collapsed": false
   },
   "outputs": [],
   "source": [
    "from sklearn import svm\n",
    "from sklearn import datasets\n",
    "\n",
    "#Train SVM\n",
    "clf = svm.SVC()\n",
    "iris = datasets.load_iris()\n",
    "X, y = iris.data, iris.target\n",
    "clf.fit(X, y)\n",
    "\n",
    "#Joblib\n",
    "from sklearn.externals import joblib\n",
    "joblib.dump(clf, 'filename.pkl')\n",
    "clf = joblib.load('filename.pkl')"
   ]
  },
  {
   "cell_type": "markdown",
   "metadata": {
    "collapsed": false
   },
   "source": [
    "### Saving JSON file\n",
    "\n",
    "Idea: Use the \"json.dumps()\" and \"json.loads()\" functions from python's json module to hold a model's parameters (from get_params function) in a file. We can then use the set_params to recreate the object.\n",
    "\n",
    "Benefits:\n",
    "- Can easily save and load already learned modules from memory\n",
    "- Minimal Coding involved\n",
    "- all model object structures remain in place\n",
    "- Can transfer trained models to other people or machines (saves to a file)\n",
    "- Generalizes better than other options (R, Java, Spark, etc. have modules to read files and json formats)\n",
    "\n",
    "Problems:\n",
    "- Must manually code initializers for all machine learning algorithms\n",
    "\n",
    "Demo:"
   ]
  },
  {
   "cell_type": "code",
   "execution_count": 3,
   "metadata": {
    "collapsed": false
   },
   "outputs": [
    {
     "data": {
      "text/plain": [
       "SVC(C=1.0, cache_size=200, class_weight=None, coef0=0.0,\n",
       "  decision_function_shape=None, degree=3, gamma='auto', kernel='rbf',\n",
       "  max_iter=-1, probability=False, random_state=None, shrinking=True,\n",
       "  tol=0.001, verbose=False)"
      ]
     },
     "execution_count": 3,
     "metadata": {},
     "output_type": "execute_result"
    }
   ],
   "source": [
    "#Show current model\n",
    "clf"
   ]
  },
  {
   "cell_type": "code",
   "execution_count": 7,
   "metadata": {
    "collapsed": false
   },
   "outputs": [
    {
     "name": "stdout",
     "output_type": "stream",
     "text": [
      "example.txt\n",
      "SVC\n",
      "{\"degree\": 3, \"C\": 1.0, \"decision_function_shape\": null, \"coef0\": 0.0, \"class_weight\": null, \"random_state\": null, \"cache_size\": 200, \"tol\": 0.001, \"probability\": false, \"kernel\": \"rbf\", \"shrinking\": true, \"max_iter\": -1, \"gamma\": \"auto\", \"verbose\": false}\n"
     ]
    }
   ],
   "source": [
    "from mlsql.functions.utils.modelIO import save_model, load_model\n",
    "save_model(\"example.txt\", clf)\n",
    "\n",
    "with open(\"example.txt.mlsql\", \"r\") as f:\n",
    "    text = f.read()\n",
    "    print(text)"
   ]
  },
  {
   "cell_type": "code",
   "execution_count": 10,
   "metadata": {
    "collapsed": false
   },
   "outputs": [
    {
     "name": "stdout",
     "output_type": "stream",
     "text": [
      "SVC\n"
     ]
    },
    {
     "data": {
      "text/plain": [
       "SVC(C=1.0, cache_size=200, class_weight=None, coef0=0.0,\n",
       "  decision_function_shape=None, degree=3, gamma='auto', kernel='rbf',\n",
       "  max_iter=-1, probability=False, random_state=None, shrinking=True,\n",
       "  tol=0.001, verbose=False)"
      ]
     },
     "execution_count": 10,
     "metadata": {},
     "output_type": "execute_result"
    }
   ],
   "source": [
    "new_model = load_model(\"example.txt.mlsql\")\n",
    "\n",
    "new_model"
   ]
  },
  {
   "cell_type": "markdown",
   "metadata": {},
   "source": [
    "## ML-SQL steps\n",
    "\n",
    "Split the ML-SQL language into 3 distinct steps (Model, Apply, and Metrics).\n",
    "\n",
    "The visual below describes the general divisions between each step and lists the different keywords associated with each of the different steps.\n",
    "\n",
    "![ML-SQL Steps](mlsql_steps.jpg)"
   ]
  },
  {
   "cell_type": "code",
   "execution_count": 6,
   "metadata": {
    "collapsed": false
   },
   "outputs": [
    {
     "name": "stdout",
     "output_type": "stream",
     "text": [
      "['read', '/home/ubuntu/notebooks/ML-SQL/dataflows/Classification/iris.data', ',', 'False']\n",
      "filename: /home/ubuntu/notebooks/ML-SQL/dataflows/Classification/iris.data\n",
      "header: \n",
      "separator: \n",
      "train size: \n",
      "test size: \n",
      "predictors: \n",
      "label: \n",
      "algorithm: \n",
      "replace columns: \n",
      "replace value: \n",
      "replace identifier: \n",
      "\n",
      "     0    1    2    3            4\n",
      "0  5.1  3.5  1.4  0.2  Iris-setosa\n",
      "1  4.9  3.0  1.4  0.2  Iris-setosa\n",
      "2  4.7  3.2  1.3  0.2  Iris-setosa\n",
      "3  4.6  3.1  1.5  0.2  Iris-setosa\n",
      "4  5.0  3.6  1.4  0.2  Iris-setosa\n"
     ]
    }
   ],
   "source": [
    "# Iris Dataset exmaple with language\n",
    "\n",
    "command = \"LOAD /home/ubuntu/notebooks/ML-SQL/dataflows/Classification/iris.data ()\"\n",
    "\n",
    "execute(command)"
   ]
  },
  {
   "cell_type": "markdown",
   "metadata": {},
   "source": [
    "___\n",
    "\n",
    "### Acknowledgements\n",
    "\n",
    "- http://scikit-learn.org/stable/modules/model_persistence.html\n",
    "\n",
    "___ "
   ]
  }
 ],
 "metadata": {
  "kernelspec": {
   "display_name": "Python 3",
   "language": "python",
   "name": "python3"
  },
  "language_info": {
   "codemirror_mode": {
    "name": "ipython",
    "version": 3
   },
   "file_extension": ".py",
   "mimetype": "text/x-python",
   "name": "python",
   "nbconvert_exporter": "python",
   "pygments_lexer": "ipython3",
   "version": "3.5.1"
  }
 },
 "nbformat": 4,
 "nbformat_minor": 0
}
